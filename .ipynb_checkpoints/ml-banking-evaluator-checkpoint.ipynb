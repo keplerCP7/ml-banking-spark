{
 "cells": [
  {
   "cell_type": "code",
   "execution_count": 1,
   "metadata": {},
   "outputs": [
    {
     "name": "stdout",
     "output_type": "stream",
     "text": [
      "Starting Spark application\n"
     ]
    },
    {
     "data": {
      "text/html": [
       "<table>\n",
       "<tr><th>ID</th><th>YARN Application ID</th><th>Kind</th><th>State</th><th>Spark UI</th><th>Driver log</th><th>Current session?</th></tr><tr><td>3</td><td>application_1540770771728_0004</td><td>pyspark3</td><td>idle</td><td><a target=\"_blank\" href=\"http://ip-172-31-69-71.ec2.internal:20888/proxy/application_1540770771728_0004/\">Link</a></td><td><a target=\"_blank\" href=\"http://ip-172-31-64-30.ec2.internal:8042/node/containerlogs/container_1540770771728_0004_01_000001/livy\">Link</a></td><td>✔</td></tr></table>"
      ],
      "text/plain": [
       "<IPython.core.display.HTML object>"
      ]
     },
     "metadata": {},
     "output_type": "display_data"
    },
    {
     "name": "stdout",
     "output_type": "stream",
     "text": [
      "SparkSession available as 'spark'.\n"
     ]
    }
   ],
   "source": [
    "from pyspark import SparkConf, SparkContext\n",
    "from pyspark.sql import SQLContext\n",
    "\n",
    "conf = SparkConf().setAppName(\"banking-linear-regression-analysis\")\n",
    "sc = SparkContext(conf=conf)\n",
    "sqlContext = SQLContext(sc)\n",
    "\n",
    "df = sqlContext.read.parquet(\"s3://vl2-dlk/data-banking-demo/banking-output/\")\n",
    "df.registerTempTable(\"df_data\")"
   ]
  },
  {
   "cell_type": "code",
   "execution_count": 3,
   "metadata": {},
   "outputs": [
    {
     "name": "stdout",
     "output_type": "stream",
     "text": [
      "+---+----------+\n",
      "|age|prediction|\n",
      "+---+----------+\n",
      "| 37|       0.0|\n",
      "| 40|       0.0|\n",
      "| 53|       0.0|\n",
      "| 32|       0.0|\n",
      "| 54|       0.0|\n",
      "| 40|       0.0|\n",
      "| 56|       0.0|\n",
      "| 50|       1.0|\n",
      "| 47|       0.0|\n",
      "| 44|       0.0|\n",
      "+---+----------+\n",
      "only showing top 10 rows"
     ]
    }
   ],
   "source": [
    "df.select('age', 'prediction').show(10)"
   ]
  }
 ],
 "metadata": {
  "kernelspec": {
   "display_name": "PySpark3",
   "language": "",
   "name": "pyspark3kernel"
  },
  "language_info": {
   "codemirror_mode": {
    "name": "python",
    "version": 3
   },
   "mimetype": "text/x-python",
   "name": "pyspark3",
   "pygments_lexer": "python3"
  }
 },
 "nbformat": 4,
 "nbformat_minor": 2
}

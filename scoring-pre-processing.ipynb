{
 "cells": [
  {
   "cell_type": "code",
   "execution_count": null,
   "metadata": {},
   "outputs": [],
   "source": [
    "import os\n",
    "import numpy as np\n",
    "import pandas as pd\n",
    "from sklearn.preprocessing import MinMaxScaler\n",
    "from sklearn.metrics import r2_score\n",
    "from sklearn.preprocessing import StandardScaler\n",
    "import pickle\n",
    "\n",
    "\n",
    "train_percent=0.9\n",
    "df_data = pd.read_csv('s3://vl2-dlk/data-banking-demo/cs-training.csv')\n",
    "df_data=df_data.iloc[:,1:]\n"
   ]
  },
  {
   "cell_type": "code",
   "execution_count": null,
   "metadata": {},
   "outputs": [],
   "source": [
    "df_data.fillna(0, inplace=True)"
   ]
  },
  {
   "cell_type": "code",
   "execution_count": null,
   "metadata": {},
   "outputs": [],
   "source": [
    "############# Split training , validation ###########################\n",
    "long = len(df_data)\n",
    "\n",
    "seed=[1,long]\n",
    "\n",
    "np.random.seed(seed)\n",
    "perm = np.random.permutation(df_data.index)\n",
    "m = len(df_data.index)\n",
    "train_end = int(train_percent * m)\n",
    "\n",
    "train = df_data.iloc[perm[:train_end]]\n",
    "validate = df_data.iloc[perm[train_end:]]"
   ]
  },
  {
   "cell_type": "code",
   "execution_count": null,
   "metadata": {},
   "outputs": [],
   "source": [
    "x_train=train.iloc[:,1:];\n",
    "y_train=train.iloc[:,:1];\n",
    "x_val=validate.iloc[:,1:];\n",
    "y_val=validate.iloc[:,:1];"
   ]
  },
  {
   "cell_type": "code",
   "execution_count": null,
   "metadata": {},
   "outputs": [],
   "source": [
    "###### Standarization ###############################\n",
    "print(\"Start StandardScaler\")\n",
    "\n",
    "e=StandardScaler()\n",
    "\n",
    "x_train= e.fit_transform(x_train)\n",
    "x_val= e.transform(x_val)\n",
    "\n",
    "\n",
    "filehandler = open(\"/stdscaler.obj\",\"wb\")\n",
    "pickle.dump(e,filehandler)\n",
    "filehandler.close()\n",
    "\n",
    "print(\"End StandardScaler\")\n",
    "#####################################################################"
   ]
  },
  {
   "cell_type": "code",
   "execution_count": null,
   "metadata": {},
   "outputs": [],
   "source": [
    "x_train_df=pd.DataFrame(x_train)\n",
    "x_train_df.to_csv(\"./x_train_df.csv\")\n",
    "\n",
    "x_val_df=pd.DataFrame(x_val)\n",
    "x_val_df.to_csv(\"./x_val_df.csv\")\n",
    "\n",
    "y_train.to_csv(\"./y_train.csv\")\n",
    "y_val.to_csv(\"./y_val.csv\")"
   ]
  }
 ],
 "metadata": {
  "kernelspec": {
   "display_name": "Python 3",
   "language": "python",
   "name": "python3"
  },
  "language_info": {
   "codemirror_mode": {
    "name": "ipython",
    "version": 3
   },
   "file_extension": ".py",
   "mimetype": "text/x-python",
   "name": "python",
   "nbconvert_exporter": "python",
   "pygments_lexer": "ipython3",
   "version": "3.6.3"
  }
 },
 "nbformat": 4,
 "nbformat_minor": 2
}
